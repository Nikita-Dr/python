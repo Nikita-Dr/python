{
  "nbformat": 4,
  "nbformat_minor": 0,
  "metadata": {
    "colab": {
      "provenance": [],
      "authorship_tag": "ABX9TyOXC5vdJbaF+bs8w5rL/Qht",
      "include_colab_link": true
    },
    "kernelspec": {
      "name": "python3",
      "display_name": "Python 3"
    },
    "language_info": {
      "name": "python"
    }
  },
  "cells": [
    {
      "cell_type": "markdown",
      "metadata": {
        "id": "view-in-github",
        "colab_type": "text"
      },
      "source": [
        "<a href=\"https://colab.research.google.com/github/Nikita-Dr/python/blob/main/%D0%9B%D0%B0%D0%B1_1_%D1%84%D0%BE%D1%81%D1%82_%D0%BF%D0%B8%D1%82%D0%BE%D0%BD.ipynb\" target=\"_parent\"><img src=\"https://colab.research.google.com/assets/colab-badge.svg\" alt=\"Open In Colab\"/></a>"
      ]
    },
    {
      "cell_type": "code",
      "metadata": {
        "colab": {
          "base_uri": "https://localhost:8080/",
          "height": 690
        },
        "id": "v8jtshR7Xt7D",
        "outputId": "b1e9e847-1934-4464-851a-0644f42cb9fb"
      },
      "source": [
        "! pip install matplotlib\n",
        "\n",
        "import matplotlib.pyplot as plt\n",
        "from math import cos, sin, radians, degrees\n",
        "\n",
        "print('\\n')\n",
        "\n",
        "fig = plt.figure() # Создание области\n",
        "\n",
        "g = 9.8 #Ускорение свободного падения\n",
        "e = 2.71\n",
        "t = 0.0 #Начальное время\n",
        "xs = []\n",
        "ys = []\n",
        "m = 1\n",
        "k = 1\n",
        "\n",
        "print(\"Тип работы: Если учитывать  сопротивления 0 если есть 1\")\n",
        "iswind = float(input())\n",
        "\n",
        "print(\"Угол\")\n",
        "angle = radians(float(input())) #угол и перевод его в радианы\n",
        "\n",
        "if iswind == 1.0:\n",
        " print(\"масса тела\")\n",
        " m = int(input())\n",
        " print(\"Коэфф к \")\n",
        " k = 1.2\n",
        " print(k)\n",
        "else:\n",
        " m = 1\n",
        " k = 1\n",
        "T = 0\n",
        "\n",
        "print(\"начальная скорость\")\n",
        "v0 = float(input()) #начальная скорость\n",
        "if iswind == 0:\n",
        " for i in range(0,10000):\n",
        "  t += 0.01 # Шаг изменения времени\n",
        "  if len(ys) > 0:\n",
        "    if (ys[len(ys) - 1] > 0.0): # Если нынешний элемент больше нуля\n",
        "      xs.append(v0*cos(angle) * t)\n",
        "      ys.append(v0*sin(angle) * t - (g*(t**2)/2))\n",
        "      T+=0.01\n",
        "    else:\n",
        "      break # не рисуем когда у меньше 0\n",
        "  else:\n",
        "    xs.append(v0*cos(angle) * t)\n",
        "    ys.append(v0*sin(angle) * t - (g*(t**2)/2))\n",
        "    T+=0.01\n",
        "else: # ============ЕСЛИ второй сценарий============\n",
        "  for i in range(0,10000):\n",
        "   t += 0.01\n",
        "   if len(ys) > 0:\n",
        "    if (ys[len(ys) - 1] > 0.0):\n",
        "      xs.append(v0*cos(angle) * m/k*(1-e**(-k*t/m)))\n",
        "      ys.append(m/k*((v0*sin(angle)+m*g/k)*(1-e**(-k*t/m))-g*t))\n",
        "      T+=0.01\n",
        "    else:\n",
        "      break\n",
        "   else:\n",
        "    xs.append(v0*cos(angle) * m/k*(1-e**(-k*t/m)))\n",
        "    ys.append(m/k*((v0*sin(angle)+m*g/k)*(1-e**(-k*t/m))-g*t))\n",
        "    T+=0.01\n",
        "\n",
        "if iswind == 0:\n",
        "  L=v0*v0*sin(2*angle)/g\n",
        "else:\n",
        "  L=v0*cos(angle)*m/k*(1-e**(-k*t/m))\n",
        "\n",
        "print(\"Дальность полета \")\n",
        "print(L)\n",
        "\n",
        "graph1 = plt.plot(xs, ys) # Создание координатной плоскости с значениями массивов Х и У\n",
        "\n",
        "grid1 = plt.grid(True) # Создание сетки для графика\n",
        "\n",
        "plt.show() # Показать график\n",
        "\n",
        "max = 0\n",
        "maxa = 0\n",
        "for i in range(1,89):\n",
        " if ((v0*v0*sin(2*radians(float(i)))/g)>max):\n",
        "   max = (v0*v0*sin(2*radians(float(i)))/g)\n",
        "   maxa = i\n",
        "print(\"максимальная дальность полета \")\n",
        "print(max)\n",
        "print(\"при угле \")\n",
        "print(maxa)"
      ],
      "execution_count": null,
      "outputs": [
        {
          "output_type": "stream",
          "name": "stdout",
          "text": [
            "Requirement already satisfied: matplotlib in /usr/local/lib/python3.7/dist-packages (3.2.2)\n",
            "Requirement already satisfied: kiwisolver>=1.0.1 in /usr/local/lib/python3.7/dist-packages (from matplotlib) (1.3.1)\n",
            "Requirement already satisfied: cycler>=0.10 in /usr/local/lib/python3.7/dist-packages (from matplotlib) (0.10.0)\n",
            "Requirement already satisfied: pyparsing!=2.0.4,!=2.1.2,!=2.1.6,>=2.0.1 in /usr/local/lib/python3.7/dist-packages (from matplotlib) (2.4.7)\n",
            "Requirement already satisfied: numpy>=1.11 in /usr/local/lib/python3.7/dist-packages (from matplotlib) (1.19.5)\n",
            "Requirement already satisfied: python-dateutil>=2.1 in /usr/local/lib/python3.7/dist-packages (from matplotlib) (2.8.2)\n",
            "Requirement already satisfied: six in /usr/local/lib/python3.7/dist-packages (from cycler>=0.10->matplotlib) (1.15.0)\n",
            "\n",
            "\n",
            "Тип работы: Если учитывать  сопротивления 0 если есть 1\n",
            "1\n",
            "Угол\n",
            "10\n",
            "масса тела\n",
            "100\n",
            "Коэфф к \n",
            "1.2\n",
            "начальная скорость\n",
            "300\n",
            "Дальность полета \n",
            "2760.358266887474\n"
          ]
        },
        {
          "output_type": "display_data",
          "data": {
            "image/png": "[encoded data removed]",
            "text/plain": [
              "<Figure size 432x288 with 1 Axes>"
            ]
          },
          "metadata": {
            "needs_background": "light"
          }
        },
        {
          "output_type": "stream",
          "name": "stdout",
          "text": [
            "максимальная дальность полета \n",
            "9183.673469387755\n",
            "при угле \n",
            "45\n"
          ]
        }
      ]
    }
  ]
}